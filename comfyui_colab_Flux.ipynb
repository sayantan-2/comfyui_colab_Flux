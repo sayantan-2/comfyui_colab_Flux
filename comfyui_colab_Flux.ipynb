{
  "cells": [
    {
      "cell_type": "markdown",
      "metadata": {
        "id": "view-in-github",
        "colab_type": "text"
      },
      "source": [
        "<a href=\"https://colab.research.google.com/github/sayantan-2/comfyui_colab_Flux/blob/main/comfyui_colab_Flux.ipynb\" target=\"_parent\"><img src=\"https://colab.research.google.com/assets/colab-badge.svg\" alt=\"Open In Colab\"/></a>"
      ]
    },
    {
      "cell_type": "markdown",
      "metadata": {
        "id": "aaaaaaaaaa"
      },
      "source": [
        "Git clone the [ComfyUI](https://github.com/comfyanonymous/ComfyUI) repo and install the requirements."
      ]
    },
    {
      "cell_type": "code",
      "execution_count": 1,
      "metadata": {
        "cellView": "form",
        "colab": {
          "base_uri": "https://localhost:8080/"
        },
        "id": "bbbbbbbbbb",
        "outputId": "2fb893ba-8640-465f-ed7b-17ca829c0eb6"
      },
      "outputs": [
        {
          "output_type": "stream",
          "name": "stdout",
          "text": [
            "Cloning into 'ComfyUI'...\n",
            "remote: Enumerating objects: 22219, done.\u001b[K\n",
            "remote: Counting objects: 100% (290/290), done.\u001b[K\n",
            "remote: Compressing objects: 100% (149/149), done.\u001b[K\n",
            "remote: Total 22219 (delta 223), reused 143 (delta 141), pack-reused 21929 (from 4)\u001b[K\n",
            "Receiving objects: 100% (22219/22219), 65.88 MiB | 13.56 MiB/s, done.\n",
            "Resolving deltas: 100% (14728/14728), done.\n",
            "/content/ComfyUI\n",
            "\u001b[2K     \u001b[90m━━━━━━━━━━━━━━━━━━━━━━━━━━━━━━━━━━━━━━━━\u001b[0m \u001b[32m55.8/55.8 kB\u001b[0m \u001b[31m4.5 MB/s\u001b[0m eta \u001b[36m0:00:00\u001b[0m\n",
            "\u001b[2K     \u001b[90m━━━━━━━━━━━━━━━━━━━━━━━━━━━━━━━━━━━━━━━\u001b[0m \u001b[32m663.9/663.9 MB\u001b[0m \u001b[31m1.3 MB/s\u001b[0m eta \u001b[36m0:00:00\u001b[0m\n",
            "\u001b[2K     \u001b[90m━━━━━━━━━━━━━━━━━━━━━━━━━━━━━━━━━━━━━━━\u001b[0m \u001b[32m147.8/147.8 MB\u001b[0m \u001b[31m6.8 MB/s\u001b[0m eta \u001b[36m0:00:00\u001b[0m\n",
            "\u001b[2K   \u001b[90m━━━━━━━━━━━━━━━━━━━━━━━━━━━━━━━━━━━━━━━━\u001b[0m \u001b[32m9.4/9.4 MB\u001b[0m \u001b[31m128.7 MB/s\u001b[0m eta \u001b[36m0:00:00\u001b[0m\n",
            "\u001b[2K   \u001b[90m━━━━━━━━━━━━━━━━━━━━━━━━━━━━━━━━━━━━━━━━\u001b[0m \u001b[32m69.1/69.1 MB\u001b[0m \u001b[31m11.3 MB/s\u001b[0m eta \u001b[36m0:00:00\u001b[0m\n",
            "\u001b[2K   \u001b[90m━━━━━━━━━━━━━━━━━━━━━━━━━━━━━━━━━━━━━━━━\u001b[0m \u001b[32m1.0/1.0 MB\u001b[0m \u001b[31m59.0 MB/s\u001b[0m eta \u001b[36m0:00:00\u001b[0m\n",
            "\u001b[2K   \u001b[90m━━━━━━━━━━━━━━━━━━━━━━━━━━━━━━━━━━━━━━━━\u001b[0m \u001b[32m13.3/13.3 MB\u001b[0m \u001b[31m108.7 MB/s\u001b[0m eta \u001b[36m0:00:00\u001b[0m\n",
            "\u001b[2K   \u001b[90m━━━━━━━━━━━━━━━━━━━━━━━━━━━━━━━━━━━━━━━━\u001b[0m \u001b[32m905.3/905.3 MB\u001b[0m \u001b[31m1.5 MB/s\u001b[0m eta \u001b[36m0:00:00\u001b[0m\n",
            "\u001b[2K   \u001b[90m━━━━━━━━━━━━━━━━━━━━━━━━━━━━━━━━━━━━━━━━\u001b[0m \u001b[32m417.9/417.9 MB\u001b[0m \u001b[31m3.9 MB/s\u001b[0m eta \u001b[36m0:00:00\u001b[0m\n",
            "\u001b[2K   \u001b[90m━━━━━━━━━━━━━━━━━━━━━━━━━━━━━━━━━━━━━━━━\u001b[0m \u001b[32m13.1/13.1 MB\u001b[0m \u001b[31m111.9 MB/s\u001b[0m eta \u001b[36m0:00:00\u001b[0m\n",
            "\u001b[2K   \u001b[90m━━━━━━━━━━━━━━━━━━━━━━━━━━━━━━━━━━━━━━━━\u001b[0m \u001b[32m23.2/23.2 MB\u001b[0m \u001b[31m92.5 MB/s\u001b[0m eta \u001b[36m0:00:00\u001b[0m\n",
            "\u001b[2K   \u001b[90m━━━━━━━━━━━━━━━━━━━━━━━━━━━━━━━━━━━━━━━━\u001b[0m \u001b[32m875.6/875.6 kB\u001b[0m \u001b[31m55.6 MB/s\u001b[0m eta \u001b[36m0:00:00\u001b[0m\n",
            "\u001b[2K   \u001b[90m━━━━━━━━━━━━━━━━━━━━━━━━━━━━━━━━━━━━━━━━\u001b[0m \u001b[32m168.4/168.4 MB\u001b[0m \u001b[31m6.0 MB/s\u001b[0m eta \u001b[36m0:00:00\u001b[0m\n",
            "\u001b[2K   \u001b[90m━━━━━━━━━━━━━━━━━━━━━━━━━━━━━━━━━━━━━━━━\u001b[0m \u001b[32m58.1/58.1 MB\u001b[0m \u001b[31m12.9 MB/s\u001b[0m eta \u001b[36m0:00:00\u001b[0m\n",
            "\u001b[2K   \u001b[90m━━━━━━━━━━━━━━━━━━━━━━━━━━━━━━━━━━━━━━━━\u001b[0m \u001b[32m128.2/128.2 MB\u001b[0m \u001b[31m7.3 MB/s\u001b[0m eta \u001b[36m0:00:00\u001b[0m\n",
            "\u001b[2K   \u001b[90m━━━━━━━━━━━━━━━━━━━━━━━━━━━━━━━━━━━━━━━━\u001b[0m \u001b[32m204.1/204.1 MB\u001b[0m \u001b[31m5.6 MB/s\u001b[0m eta \u001b[36m0:00:00\u001b[0m\n",
            "\u001b[2K   \u001b[90m━━━━━━━━━━━━━━━━━━━━━━━━━━━━━━━━━━━━━━━━\u001b[0m \u001b[32m99.1/99.1 kB\u001b[0m \u001b[31m8.7 MB/s\u001b[0m eta \u001b[36m0:00:00\u001b[0m\n",
            "\u001b[2K   \u001b[90m━━━━━━━━━━━━━━━━━━━━━━━━━━━━━━━━━━━━━━━━\u001b[0m \u001b[32m155.7/155.7 MB\u001b[0m \u001b[31m6.3 MB/s\u001b[0m eta \u001b[36m0:00:00\u001b[0m\n",
            "\u001b[2K   \u001b[90m━━━━━━━━━━━━━━━━━━━━━━━━━━━━━━━━━━━━━━━━\u001b[0m \u001b[32m61.2/61.2 kB\u001b[0m \u001b[31m5.7 MB/s\u001b[0m eta \u001b[36m0:00:00\u001b[0m\n",
            "\u001b[2K   \u001b[90m━━━━━━━━━━━━━━━━━━━━━━━━━━━━━━━━━━━━━━━━\u001b[0m \u001b[32m6.7/6.7 MB\u001b[0m \u001b[31m118.6 MB/s\u001b[0m eta \u001b[36m0:00:00\u001b[0m\n",
            "\u001b[2K   \u001b[90m━━━━━━━━━━━━━━━━━━━━━━━━━━━━━━━━━━━━━━━━\u001b[0m \u001b[32m3.3/3.3 MB\u001b[0m \u001b[31m107.7 MB/s\u001b[0m eta \u001b[36m0:00:00\u001b[0m\n",
            "\u001b[2K   \u001b[90m━━━━━━━━━━━━━━━━━━━━━━━━━━━━━━━━━━━━━━━━\u001b[0m \u001b[32m247.0/247.0 kB\u001b[0m \u001b[31m22.6 MB/s\u001b[0m eta \u001b[36m0:00:00\u001b[0m\n",
            "\u001b[2K   \u001b[90m━━━━━━━━━━━━━━━━━━━━━━━━━━━━━━━━━━━━━━━━\u001b[0m \u001b[32m1.1/1.1 MB\u001b[0m \u001b[31m63.6 MB/s\u001b[0m eta \u001b[36m0:00:00\u001b[0m\n",
            "\u001b[2K   \u001b[90m━━━━━━━━━━━━━━━━━━━━━━━━━━━━━━━━━━━━━━━━\u001b[0m \u001b[32m305.2/305.2 kB\u001b[0m \u001b[31m26.1 MB/s\u001b[0m eta \u001b[36m0:00:00\u001b[0m\n",
            "\u001b[2K   \u001b[90m━━━━━━━━━━━━━━━━━━━━━━━━━━━━━━━━━━━━━━━━\u001b[0m \u001b[32m39.7/39.7 MB\u001b[0m \u001b[31m17.5 MB/s\u001b[0m eta \u001b[36m0:00:00\u001b[0m\n",
            "\u001b[2K   \u001b[90m━━━━━━━━━━━━━━━━━━━━━━━━━━━━━━━━━━━━━━━━\u001b[0m \u001b[32m45.2/45.2 kB\u001b[0m \u001b[31m3.8 MB/s\u001b[0m eta \u001b[36m0:00:00\u001b[0m\n",
            "\u001b[2K   \u001b[90m━━━━━━━━━━━━━━━━━━━━━━━━━━━━━━━━━━━━━━━━\u001b[0m \u001b[32m2.8/2.8 MB\u001b[0m \u001b[31m96.7 MB/s\u001b[0m eta \u001b[36m0:00:00\u001b[0m\n",
            "\u001b[2K   \u001b[90m━━━━━━━━━━━━━━━━━━━━━━━━━━━━━━━━━━━━━━━━\u001b[0m \u001b[32m6.3/6.3 MB\u001b[0m \u001b[31m109.9 MB/s\u001b[0m eta \u001b[36m0:00:00\u001b[0m\n",
            "\u001b[?25h\u001b[31mERROR: pip's dependency resolver does not currently take into account all the packages that are installed. This behaviour is the source of the following dependency conflicts.\n",
            "fastai 2.7.19 requires torch<2.7,>=1.10, but you have torch 2.7.1+cu118 which is incompatible.\u001b[0m\u001b[31m\n",
            "\u001b[0m"
          ]
        }
      ],
      "source": [
        "!git clone https://github.com/comfyanonymous/ComfyUI\n",
        "%cd ComfyUI\n",
        "%pip install -q xformers!=0.0.18 -r requirements.txt --extra-index-url https://download.pytorch.org/whl/cu121 --extra-index-url https://download.pytorch.org/whl/cu118 --extra-index-url https://download.pytorch.org/whl/cu117\n"
      ]
    },
    {
      "cell_type": "markdown",
      "source": [
        "Git clone the [ComfyUI-GGUF](https://github.com/city96/ComfyUI-GGUF) repo and follow the instructions."
      ],
      "metadata": {
        "id": "rBW-zqXfzsYr"
      }
    },
    {
      "cell_type": "code",
      "execution_count": 2,
      "metadata": {
        "colab": {
          "base_uri": "https://localhost:8080/"
        },
        "id": "0dvla7XiuVpN",
        "outputId": "3f55fb37-5270-4409-b63b-ea5b1bdbf317"
      },
      "outputs": [
        {
          "output_type": "stream",
          "name": "stdout",
          "text": [
            "/content/ComfyUI/custom_nodes\n",
            "Collecting gguf\n",
            "  Downloading gguf-0.17.1-py3-none-any.whl.metadata (4.3 kB)\n",
            "Requirement already satisfied: numpy>=1.17 in /usr/local/lib/python3.11/dist-packages (from gguf) (2.0.2)\n",
            "Requirement already satisfied: pyyaml>=5.1 in /usr/local/lib/python3.11/dist-packages (from gguf) (6.0.2)\n",
            "Requirement already satisfied: tqdm>=4.27 in /usr/local/lib/python3.11/dist-packages (from gguf) (4.67.1)\n",
            "Downloading gguf-0.17.1-py3-none-any.whl (96 kB)\n",
            "\u001b[2K   \u001b[90m━━━━━━━━━━━━━━━━━━━━━━━━━━━━━━━━━━━━━━━━\u001b[0m \u001b[32m96.2/96.2 kB\u001b[0m \u001b[31m6.9 MB/s\u001b[0m eta \u001b[36m0:00:00\u001b[0m\n",
            "\u001b[?25hInstalling collected packages: gguf\n",
            "Successfully installed gguf-0.17.1\n",
            "Cloning into 'ComfyUI-GGUF'...\n",
            "remote: Enumerating objects: 631, done.\u001b[K\n",
            "remote: Counting objects: 100% (305/305), done.\u001b[K\n",
            "remote: Compressing objects: 100% (139/139), done.\u001b[K\n",
            "remote: Total 631 (delta 269), reused 170 (delta 166), pack-reused 326 (from 2)\u001b[K\n",
            "Receiving objects: 100% (631/631), 184.30 KiB | 12.29 MiB/s, done.\n",
            "Resolving deltas: 100% (401/401), done.\n",
            "/content/ComfyUI\n",
            "--2025-07-25 09:12:22--  https://github.com/sayantan-2/comfyui_colab_Flux/blob/main/gguf.json\n",
            "Resolving github.com (github.com)... 20.205.243.166\n",
            "Connecting to github.com (github.com)|20.205.243.166|:443... connected.\n",
            "HTTP request sent, awaiting response... 200 OK\n",
            "Length: unspecified [text/html]\n",
            "Saving to: ‘./user/default/workflows/gguf.json’\n",
            "\n",
            "gguf.json               [ <=>                ] 192.78K  --.-KB/s    in 0.007s  \n",
            "\n",
            "2025-07-25 09:12:22 (28.4 MB/s) - ‘./user/default/workflows/gguf.json’ saved [197409]\n",
            "\n"
          ]
        }
      ],
      "source": [
        "%cd custom_nodes\n",
        "%pip install --upgrade gguf\n",
        "!rm -rf ComfyUI-GGUF\n",
        "!git clone https://github.com/city96/ComfyUI-GGUF\n",
        "%cd ..\n",
        "!wget https://github.com/sayantan-2/comfyui_colab_Flux/blob/main/gguf.json -P ./user/default/workflows # a sample workflow"
      ]
    },
    {
      "cell_type": "markdown",
      "metadata": {
        "id": "cccccccccc"
      },
      "source": [
        "Download the vae and dual text encoder needed for FLUX"
      ]
    },
    {
      "cell_type": "code",
      "execution_count": 3,
      "metadata": {
        "colab": {
          "base_uri": "https://localhost:8080/"
        },
        "id": "qb9xz1ViENoO",
        "outputId": "c15cda8f-fa52-4196-8e02-ac5ce60a82a7"
      },
      "outputs": [
        {
          "output_type": "stream",
          "name": "stdout",
          "text": [
            "--2025-07-25 09:13:07--  https://huggingface.co/comfyanonymous/flux_text_encoders/resolve/main/clip_l.safetensors\n",
            "Resolving huggingface.co (huggingface.co)... 3.165.102.128, 3.165.102.22, 3.165.102.6, ...\n",
            "Connecting to huggingface.co (huggingface.co)|3.165.102.128|:443... connected.\n",
            "HTTP request sent, awaiting response... 302 Found\n",
            "Location: https://cdn-lfs-us-1.hf.co/repos/f0/72/f072b3fc381065339926f6194e8ae71b6a464d596c9495100c3c8730729ec94e/660c6f5b1abae9dc498ac2d21e1347d2abdb0cf6c0c0c8576cd796491d9a6cdd?response-content-disposition=inline%3B+filename*%3DUTF-8%27%27clip_l.safetensors%3B+filename%3D%22clip_l.safetensors%22%3B&Expires=1753438144&Policy=eyJTdGF0ZW1lbnQiOlt7IkNvbmRpdGlvbiI6eyJEYXRlTGVzc1RoYW4iOnsiQVdTOkVwb2NoVGltZSI6MTc1MzQzODE0NH19LCJSZXNvdXJjZSI6Imh0dHBzOi8vY2RuLWxmcy11cy0xLmhmLmNvL3JlcG9zL2YwLzcyL2YwNzJiM2ZjMzgxMDY1MzM5OTI2ZjYxOTRlOGFlNzFiNmE0NjRkNTk2Yzk0OTUxMDBjM2M4NzMwNzI5ZWM5NGUvNjYwYzZmNWIxYWJhZTlkYzQ5OGFjMmQyMWUxMzQ3ZDJhYmRiMGNmNmMwYzBjODU3NmNkNzk2NDkxZDlhNmNkZD9yZXNwb25zZS1jb250ZW50LWRpc3Bvc2l0aW9uPSoifV19&Signature=PkuRPmOWK%7EBdPior-9yXVYhiGb7gy0rJYqFuHGPsRm4yDCgjm72G6aWYgK8CT7-6RSsiSnaXmZsxQERkewVFl6215SToopm6XD5mZefFf0CF9oNdiMcEudOQrtbuTwgmIwgUQq2ACUpOhfaFq4c0aPn2MbxHCNm4CTnvV5KejVmJbz0KDJBa8gY-nDlul5TP%7E9EW6ssGfZ7Grr9hFUTMMjKpc5GQoJ40WjJuOWj%7Eo3OA3zFHsW1XiD5xBBrK4RDqoa2gXeTrRCh4TwuEScX7FKLSYhQRPMv3PA6zft16c-nNYnEERiM667Sh3Fbjhab--J-R2HmcCLVMpTL5WBCjLg__&Key-Pair-Id=K24J24Z295AEI9 [following]\n",
            "--2025-07-25 09:13:07--  https://cdn-lfs-us-1.hf.co/repos/f0/72/f072b3fc381065339926f6194e8ae71b6a464d596c9495100c3c8730729ec94e/660c6f5b1abae9dc498ac2d21e1347d2abdb0cf6c0c0c8576cd796491d9a6cdd?response-content-disposition=inline%3B+filename*%3DUTF-8%27%27clip_l.safetensors%3B+filename%3D%22clip_l.safetensors%22%3B&Expires=1753438144&Policy=eyJTdGF0ZW1lbnQiOlt7IkNvbmRpdGlvbiI6eyJEYXRlTGVzc1RoYW4iOnsiQVdTOkVwb2NoVGltZSI6MTc1MzQzODE0NH19LCJSZXNvdXJjZSI6Imh0dHBzOi8vY2RuLWxmcy11cy0xLmhmLmNvL3JlcG9zL2YwLzcyL2YwNzJiM2ZjMzgxMDY1MzM5OTI2ZjYxOTRlOGFlNzFiNmE0NjRkNTk2Yzk0OTUxMDBjM2M4NzMwNzI5ZWM5NGUvNjYwYzZmNWIxYWJhZTlkYzQ5OGFjMmQyMWUxMzQ3ZDJhYmRiMGNmNmMwYzBjODU3NmNkNzk2NDkxZDlhNmNkZD9yZXNwb25zZS1jb250ZW50LWRpc3Bvc2l0aW9uPSoifV19&Signature=PkuRPmOWK%7EBdPior-9yXVYhiGb7gy0rJYqFuHGPsRm4yDCgjm72G6aWYgK8CT7-6RSsiSnaXmZsxQERkewVFl6215SToopm6XD5mZefFf0CF9oNdiMcEudOQrtbuTwgmIwgUQq2ACUpOhfaFq4c0aPn2MbxHCNm4CTnvV5KejVmJbz0KDJBa8gY-nDlul5TP%7E9EW6ssGfZ7Grr9hFUTMMjKpc5GQoJ40WjJuOWj%7Eo3OA3zFHsW1XiD5xBBrK4RDqoa2gXeTrRCh4TwuEScX7FKLSYhQRPMv3PA6zft16c-nNYnEERiM667Sh3Fbjhab--J-R2HmcCLVMpTL5WBCjLg__&Key-Pair-Id=K24J24Z295AEI9\n",
            "Resolving cdn-lfs-us-1.hf.co (cdn-lfs-us-1.hf.co)... 3.165.75.33, 3.165.75.19, 3.165.75.101, ...\n",
            "Connecting to cdn-lfs-us-1.hf.co (cdn-lfs-us-1.hf.co)|3.165.75.33|:443... connected.\n",
            "HTTP request sent, awaiting response... 200 OK\n",
            "Length: 246144152 (235M) [binary/octet-stream]\n",
            "Saving to: ‘./models/text_encoders/clip_l.safetensors’\n",
            "\n",
            "clip_l.safetensors  100%[===================>] 234.74M  19.8MB/s    in 6.4s    \n",
            "\n",
            "2025-07-25 09:13:14 (36.7 MB/s) - ‘./models/text_encoders/clip_l.safetensors’ saved [246144152/246144152]\n",
            "\n",
            "--2025-07-25 09:13:14--  https://huggingface.co/comfyanonymous/flux_text_encoders/resolve/main/t5xxl_fp8_e4m3fn.safetensors\n",
            "Resolving huggingface.co (huggingface.co)... 3.165.102.6, 3.165.102.128, 3.165.102.58, ...\n",
            "Connecting to huggingface.co (huggingface.co)|3.165.102.6|:443... connected.\n",
            "HTTP request sent, awaiting response... 302 Found\n",
            "Location: https://cdn-lfs-us-1.hf.co/repos/f0/72/f072b3fc381065339926f6194e8ae71b6a464d596c9495100c3c8730729ec94e/7d330da4816157540d6bb7838bf63a0f02f573fc48ca4d8de34bb0cbfd514f09?response-content-disposition=inline%3B+filename*%3DUTF-8%27%27t5xxl_fp8_e4m3fn.safetensors%3B+filename%3D%22t5xxl_fp8_e4m3fn.safetensors%22%3B&Expires=1753438041&Policy=eyJTdGF0ZW1lbnQiOlt7IkNvbmRpdGlvbiI6eyJEYXRlTGVzc1RoYW4iOnsiQVdTOkVwb2NoVGltZSI6MTc1MzQzODA0MX19LCJSZXNvdXJjZSI6Imh0dHBzOi8vY2RuLWxmcy11cy0xLmhmLmNvL3JlcG9zL2YwLzcyL2YwNzJiM2ZjMzgxMDY1MzM5OTI2ZjYxOTRlOGFlNzFiNmE0NjRkNTk2Yzk0OTUxMDBjM2M4NzMwNzI5ZWM5NGUvN2QzMzBkYTQ4MTYxNTc1NDBkNmJiNzgzOGJmNjNhMGYwMmY1NzNmYzQ4Y2E0ZDhkZTM0YmIwY2JmZDUxNGYwOT9yZXNwb25zZS1jb250ZW50LWRpc3Bvc2l0aW9uPSoifV19&Signature=EKIkXP%7Ec6%7EV140asAb43OWgXZzNZ9PJtYB0hC85AkdC7JLy1zynsUgOGiMfNIgSq5drstiyEqKTrnuv%7EssD88AstW8DQMYHM31vz5h%7EhI2x3-UxG-DYsetER1CT4Q9jHMDYqjFgViRsxGv7OYoTidFu6cFy-6thJl7jn-uNUTpu27bX3Tox3e76DxRqQUueGxgNduNdmC4q9BV6XdTYP9iIVd9S9aHc3gIcBoQaf%7Ez7X4G2Pt0w4mIFDLvgv-bnzpLeaGWCgUvoQdM7CwyZkPzERzfWLnbt-MKfz2s6xqWQBY%7E7VqzPmJtrqsHgL8ysdFeCfdVxm3PvuIKBpotgU-w__&Key-Pair-Id=K24J24Z295AEI9 [following]\n",
            "--2025-07-25 09:13:14--  https://cdn-lfs-us-1.hf.co/repos/f0/72/f072b3fc381065339926f6194e8ae71b6a464d596c9495100c3c8730729ec94e/7d330da4816157540d6bb7838bf63a0f02f573fc48ca4d8de34bb0cbfd514f09?response-content-disposition=inline%3B+filename*%3DUTF-8%27%27t5xxl_fp8_e4m3fn.safetensors%3B+filename%3D%22t5xxl_fp8_e4m3fn.safetensors%22%3B&Expires=1753438041&Policy=eyJTdGF0ZW1lbnQiOlt7IkNvbmRpdGlvbiI6eyJEYXRlTGVzc1RoYW4iOnsiQVdTOkVwb2NoVGltZSI6MTc1MzQzODA0MX19LCJSZXNvdXJjZSI6Imh0dHBzOi8vY2RuLWxmcy11cy0xLmhmLmNvL3JlcG9zL2YwLzcyL2YwNzJiM2ZjMzgxMDY1MzM5OTI2ZjYxOTRlOGFlNzFiNmE0NjRkNTk2Yzk0OTUxMDBjM2M4NzMwNzI5ZWM5NGUvN2QzMzBkYTQ4MTYxNTc1NDBkNmJiNzgzOGJmNjNhMGYwMmY1NzNmYzQ4Y2E0ZDhkZTM0YmIwY2JmZDUxNGYwOT9yZXNwb25zZS1jb250ZW50LWRpc3Bvc2l0aW9uPSoifV19&Signature=EKIkXP%7Ec6%7EV140asAb43OWgXZzNZ9PJtYB0hC85AkdC7JLy1zynsUgOGiMfNIgSq5drstiyEqKTrnuv%7EssD88AstW8DQMYHM31vz5h%7EhI2x3-UxG-DYsetER1CT4Q9jHMDYqjFgViRsxGv7OYoTidFu6cFy-6thJl7jn-uNUTpu27bX3Tox3e76DxRqQUueGxgNduNdmC4q9BV6XdTYP9iIVd9S9aHc3gIcBoQaf%7Ez7X4G2Pt0w4mIFDLvgv-bnzpLeaGWCgUvoQdM7CwyZkPzERzfWLnbt-MKfz2s6xqWQBY%7E7VqzPmJtrqsHgL8ysdFeCfdVxm3PvuIKBpotgU-w__&Key-Pair-Id=K24J24Z295AEI9\n",
            "Resolving cdn-lfs-us-1.hf.co (cdn-lfs-us-1.hf.co)... 3.165.75.33, 3.165.75.19, 3.165.75.101, ...\n",
            "Connecting to cdn-lfs-us-1.hf.co (cdn-lfs-us-1.hf.co)|3.165.75.33|:443... connected.\n",
            "HTTP request sent, awaiting response... 200 OK\n",
            "Length: 4893934904 (4.6G) [binary/octet-stream]\n",
            "Saving to: ‘./models/text_encoders/t5xxl_fp8_e4m3fn.safetensors’\n",
            "\n",
            "t5xxl_fp8_e4m3fn.sa 100%[===================>]   4.56G   213MB/s    in 41s     \n",
            "\n",
            "2025-07-25 09:13:55 (114 MB/s) - ‘./models/text_encoders/t5xxl_fp8_e4m3fn.safetensors’ saved [4893934904/4893934904]\n",
            "\n",
            "--2025-07-25 09:13:55--  https://huggingface.co/cocktailpeanut/xulf-dev/resolve/main/ae.safetensors\n",
            "Resolving huggingface.co (huggingface.co)... 3.165.102.58, 3.165.102.128, 3.165.102.22, ...\n",
            "Connecting to huggingface.co (huggingface.co)|3.165.102.58|:443... connected.\n",
            "HTTP request sent, awaiting response... 302 Found\n",
            "Location: https://cdn-lfs-us-1.hf.co/repos/e6/1b/e61b51323e49f08f24e9281f70900db08a8c978b7ad4a4ec5c21b72296a4214b/afc8e28272cd15db3919bacdb6918ce9c1ed22e96cb12c4d5ed0fba823529e38?response-content-disposition=inline%3B+filename*%3DUTF-8%27%27ae.safetensors%3B+filename%3D%22ae.safetensors%22%3B&Expires=1753438435&Policy=eyJTdGF0ZW1lbnQiOlt7IkNvbmRpdGlvbiI6eyJEYXRlTGVzc1RoYW4iOnsiQVdTOkVwb2NoVGltZSI6MTc1MzQzODQzNX19LCJSZXNvdXJjZSI6Imh0dHBzOi8vY2RuLWxmcy11cy0xLmhmLmNvL3JlcG9zL2U2LzFiL2U2MWI1MTMyM2U0OWYwOGYyNGU5MjgxZjcwOTAwZGIwOGE4Yzk3OGI3YWQ0YTRlYzVjMjFiNzIyOTZhNDIxNGIvYWZjOGUyODI3MmNkMTVkYjM5MTliYWNkYjY5MThjZTljMWVkMjJlOTZjYjEyYzRkNWVkMGZiYTgyMzUyOWUzOD9yZXNwb25zZS1jb250ZW50LWRpc3Bvc2l0aW9uPSoifV19&Signature=HCPcoTqMremUbpWp7kbSdse%7EyL0HYWn9dgCLPCXTo-fO0-V8fonQ5VcRxViqHxTz6UD188TocpUgZ5Wqq3Um7sb0c1N5vt%7EjIM6LvCOGwR86oKluG9uJVVTRnVwjEAzK3CdpQpPzFzN0H9S7B%7EethKWuf8e8ayc77Hn-bn1GEHdU7okJ3zaUDZMmIIvX3QU2o2o7%7EsLOA0wD0kyf2Ap4PY2iHDH5H35uc1KHqvjPzNNRIT2o6BV9N2TnwBR2%7E6B1lCm43FmkUOzVHJBcB5DRR7NFlGzH6sYAxDEnJK1X5yRoU7O3LZhFBFElkuzKk7B%7EfJAJr9fUlb5Ee3eatziVOQ__&Key-Pair-Id=K24J24Z295AEI9 [following]\n",
            "--2025-07-25 09:13:55--  https://cdn-lfs-us-1.hf.co/repos/e6/1b/e61b51323e49f08f24e9281f70900db08a8c978b7ad4a4ec5c21b72296a4214b/afc8e28272cd15db3919bacdb6918ce9c1ed22e96cb12c4d5ed0fba823529e38?response-content-disposition=inline%3B+filename*%3DUTF-8%27%27ae.safetensors%3B+filename%3D%22ae.safetensors%22%3B&Expires=1753438435&Policy=eyJTdGF0ZW1lbnQiOlt7IkNvbmRpdGlvbiI6eyJEYXRlTGVzc1RoYW4iOnsiQVdTOkVwb2NoVGltZSI6MTc1MzQzODQzNX19LCJSZXNvdXJjZSI6Imh0dHBzOi8vY2RuLWxmcy11cy0xLmhmLmNvL3JlcG9zL2U2LzFiL2U2MWI1MTMyM2U0OWYwOGYyNGU5MjgxZjcwOTAwZGIwOGE4Yzk3OGI3YWQ0YTRlYzVjMjFiNzIyOTZhNDIxNGIvYWZjOGUyODI3MmNkMTVkYjM5MTliYWNkYjY5MThjZTljMWVkMjJlOTZjYjEyYzRkNWVkMGZiYTgyMzUyOWUzOD9yZXNwb25zZS1jb250ZW50LWRpc3Bvc2l0aW9uPSoifV19&Signature=HCPcoTqMremUbpWp7kbSdse%7EyL0HYWn9dgCLPCXTo-fO0-V8fonQ5VcRxViqHxTz6UD188TocpUgZ5Wqq3Um7sb0c1N5vt%7EjIM6LvCOGwR86oKluG9uJVVTRnVwjEAzK3CdpQpPzFzN0H9S7B%7EethKWuf8e8ayc77Hn-bn1GEHdU7okJ3zaUDZMmIIvX3QU2o2o7%7EsLOA0wD0kyf2Ap4PY2iHDH5H35uc1KHqvjPzNNRIT2o6BV9N2TnwBR2%7E6B1lCm43FmkUOzVHJBcB5DRR7NFlGzH6sYAxDEnJK1X5yRoU7O3LZhFBFElkuzKk7B%7EfJAJr9fUlb5Ee3eatziVOQ__&Key-Pair-Id=K24J24Z295AEI9\n",
            "Resolving cdn-lfs-us-1.hf.co (cdn-lfs-us-1.hf.co)... 13.33.45.57, 13.33.45.64, 13.33.45.80, ...\n",
            "Connecting to cdn-lfs-us-1.hf.co (cdn-lfs-us-1.hf.co)|13.33.45.57|:443... connected.\n",
            "HTTP request sent, awaiting response... 200 OK\n",
            "Length: 335304388 (320M) [binary/octet-stream]\n",
            "Saving to: ‘./models/vae/ae.safetensors’\n",
            "\n",
            "ae.safetensors      100%[===================>] 319.77M  23.4MB/s    in 14s     \n",
            "\n",
            "2025-07-25 09:14:09 (22.9 MB/s) - ‘./models/vae/ae.safetensors’ saved [335304388/335304388]\n",
            "\n"
          ]
        }
      ],
      "source": [
        "!wget -q --show-progress https://huggingface.co/comfyanonymous/flux_text_encoders/resolve/main/clip_l.safetensors -P ./models/text_encoders/\n",
        "!wget -q --show-progress https://huggingface.co/comfyanonymous/flux_text_encoders/resolve/main/t5xxl_fp8_e4m3fn.safetensors -P ./models/text_encoders/\n",
        "!wget -q --show-progress https://huggingface.co/cocktailpeanut/xulf-dev/resolve/main/ae.safetensors -P ./models/vae/\n"
      ]
    },
    {
      "cell_type": "markdown",
      "metadata": {
        "id": "bWglWy21uVpP"
      },
      "source": [
        "Download the **FLUX.1-dev-gguf** models.  \n",
        "The **FP8 version** runs smoothly on the free tier (without LoRA), but if you want to use it with a LoRA, it requires more resources than the free Colab tier provides.  \n",
        "In that case, you can opt for the **Q5_0** or **Q4_K_S** quantized versions instead. For more quantized models, check [this page](https://huggingface.co/city96/FLUX.1-dev-gguf).\n"
      ]
    },
    {
      "cell_type": "code",
      "execution_count": 4,
      "metadata": {
        "colab": {
          "base_uri": "https://localhost:8080/"
        },
        "id": "ojrmju_XuVpQ",
        "outputId": "3a1b64b6-c674-4c3b-f85c-d6d084dd0b52"
      },
      "outputs": [
        {
          "output_type": "stream",
          "name": "stdout",
          "text": [
            "flux1-dev-Q5_0.gguf 100%[===================>]   7.70G   247MB/s    in 68s     \n"
          ]
        }
      ],
      "source": [
        "# Download any one\n",
        "\n",
        "# fp8 - needs more than free tier\n",
        "# !wget -O ./models/checkpoints/flux1-dev-fp8.safetensors https://huggingface.co/Comfy-Org/flux1-dev/resolve/main/flux1-dev-fp8.safetensors\n",
        "\n",
        "# gguf Q5_0\n",
        "!wget -q --show-progress https://huggingface.co/city96/FLUX.1-dev-gguf/resolve/main/flux1-dev-Q5_0.gguf -P ./models/unet\n",
        "\n",
        "# gguf Q4_K_S\n",
        "# !wget https://huggingface.co/city96/FLUX.1-dev-gguf/resolve/main/flux1-dev-Q4_K_S.gguf -P ./models/unet\n"
      ]
    },
    {
      "cell_type": "markdown",
      "metadata": {
        "id": "kkkkkkkkkkkkkkk"
      },
      "source": [
        "### Run ComfyUI with cloudflared (Recommended Way)\n",
        "\n",
        "\n"
      ]
    },
    {
      "cell_type": "code",
      "execution_count": null,
      "metadata": {
        "id": "jjjjjjjjjjjjjj"
      },
      "outputs": [],
      "source": [
        "!wget https://github.com/cloudflare/cloudflared/releases/latest/download/cloudflared-linux-amd64.deb\n",
        "!dpkg -i cloudflared-linux-amd64.deb\n",
        "\n",
        "import subprocess\n",
        "import threading\n",
        "import time\n",
        "import socket\n",
        "import urllib.request\n",
        "\n",
        "def iframe_thread(port):\n",
        "  while True:\n",
        "      time.sleep(0.5)\n",
        "      sock = socket.socket(socket.AF_INET, socket.SOCK_STREAM)\n",
        "      result = sock.connect_ex(('127.0.0.1', port))\n",
        "      if result == 0:\n",
        "        break\n",
        "      sock.close()\n",
        "  print(\"\\nComfyUI finished loading, trying to launch cloudflared (if it gets stuck here cloudflared is having issues)\\n\")\n",
        "\n",
        "  p = subprocess.Popen([\"cloudflared\", \"tunnel\", \"--url\", \"http://127.0.0.1:{}\".format(port)], stdout=subprocess.PIPE, stderr=subprocess.PIPE)\n",
        "  for line in p.stderr:\n",
        "    l = line.decode()\n",
        "    if \"trycloudflare.com \" in l:\n",
        "      print(\"This is the URL to access ComfyUI:\", l[l.find(\"http\"):], end='')\n",
        "    #print(l, end='')\n",
        "\n",
        "\n",
        "threading.Thread(target=iframe_thread, daemon=True, args=(8188,)).start()\n",
        "\n",
        "!python main.py --dont-print-server\n"
      ]
    },
    {
      "cell_type": "markdown",
      "metadata": {
        "id": "kkkkkkkkkkkkkk"
      },
      "source": [
        "### Run ComfyUI with localtunnel\n",
        "\n",
        "\n"
      ]
    },
    {
      "cell_type": "code",
      "execution_count": null,
      "metadata": {
        "id": "jjjjjjjjjjjjj"
      },
      "outputs": [],
      "source": [
        "!npm install -g localtunnel\n",
        "\n",
        "import threading\n",
        "\n",
        "def iframe_thread(port):\n",
        "  while True:\n",
        "      time.sleep(0.5)\n",
        "      sock = socket.socket(socket.AF_INET, socket.SOCK_STREAM)\n",
        "      result = sock.connect_ex(('127.0.0.1', port))\n",
        "      if result == 0:\n",
        "        break\n",
        "      sock.close()\n",
        "  print(\"\\nComfyUI finished loading, trying to launch localtunnel (if it gets stuck here localtunnel is having issues)\\n\")\n",
        "\n",
        "  print(\"The password/enpoint ip for localtunnel is:\", urllib.request.urlopen('https://ipv4.icanhazip.com').read().decode('utf8').strip(\"\\n\"))\n",
        "  p = subprocess.Popen([\"lt\", \"--port\", \"{}\".format(port)], stdout=subprocess.PIPE)\n",
        "  for line in p.stdout:\n",
        "    print(line.decode(), end='')\n",
        "\n",
        "\n",
        "threading.Thread(target=iframe_thread, daemon=True, args=(8188,)).start()\n",
        "\n",
        "!python main.py --dont-print-server\n"
      ]
    },
    {
      "cell_type": "code",
      "source": [
        "!npm install -g localtunnel"
      ],
      "metadata": {
        "id": "47QdZgYl4EzM",
        "outputId": "d3d7493d-9b16-46cb-d0d2-186b6b9d49ea",
        "colab": {
          "base_uri": "https://localhost:8080/"
        }
      },
      "execution_count": 8,
      "outputs": [
        {
          "output_type": "stream",
          "name": "stdout",
          "text": [
            "\u001b[1G\u001b[0K⠙\u001b[1G\u001b[0K⠹\u001b[1G\u001b[0K⠸\u001b[1G\u001b[0K⠼\u001b[1G\u001b[0K⠴\u001b[1G\u001b[0K⠦\u001b[1G\u001b[0K⠧\u001b[1G\u001b[0K⠇\u001b[1G\u001b[0K⠏\u001b[1G\u001b[0K⠋\u001b[1G\u001b[0K⠙\u001b[1G\u001b[0K⠹\u001b[1G\u001b[0K⠸\u001b[1G\u001b[0K⠼\u001b[1G\u001b[0K⠴\u001b[1G\u001b[0K⠦\u001b[1G\u001b[0K⠧\u001b[1G\u001b[0K⠇\u001b[1G\u001b[0K⠏\u001b[1G\u001b[0K⠋\u001b[1G\u001b[0K⠙\u001b[1G\u001b[0K⠹\u001b[1G\u001b[0K⠸\u001b[1G\u001b[0K⠼\u001b[1G\u001b[0K\n",
            "added 22 packages in 3s\n",
            "\u001b[1G\u001b[0K⠼\u001b[1G\u001b[0K\n",
            "\u001b[1G\u001b[0K⠼\u001b[1G\u001b[0K3 packages are looking for funding\n",
            "\u001b[1G\u001b[0K⠼\u001b[1G\u001b[0K  run `npm fund` for details\n",
            "\u001b[1G\u001b[0K⠼\u001b[1G\u001b[0K"
          ]
        }
      ]
    },
    {
      "cell_type": "code",
      "source": [
        "import subprocess\n",
        "import threading\n",
        "import time\n",
        "import socket\n",
        "import urllib.request\n",
        "import sys\n",
        "\n",
        "def iframe_thread(port):\n",
        "    while True:\n",
        "        time.sleep(0.5)\n",
        "        sock = socket.socket(socket.AF_INET, socket.SOCK_STREAM)\n",
        "        result = sock.connect_ex(('127.0.0.1', port))\n",
        "        if result == 0:\n",
        "            break\n",
        "        sock.close()\n",
        "\n",
        "    print(\"\\nComfyUI finished loading, trying to launch localtunnel...\\n\")\n",
        "    print(\"The password/endpoint IP for localtunnel is:\",\n",
        "          urllib.request.urlopen('https://ipv4.icanhazip.com').read().decode('utf8').strip(\"\\n\"))\n",
        "\n",
        "    p = subprocess.Popen([\"lt\", \"--port\", str(port)], stdout=subprocess.PIPE, stderr=subprocess.STDOUT, text=True, bufsize=1)\n",
        "\n",
        "    for line in iter(p.stdout.readline, ''):\n",
        "        sys.stdout.write(line)\n",
        "        sys.stdout.flush()\n",
        "\n",
        "threading.Thread(target=iframe_thread, daemon=True, args=(8188,)).start()\n",
        "!python main.py --dont-print-server"
      ],
      "metadata": {
        "id": "h4B6fEps3VpE",
        "outputId": "dd79f936-8095-4ae8-d962-df768c968cec",
        "colab": {
          "base_uri": "https://localhost:8080/"
        }
      },
      "execution_count": null,
      "outputs": [
        {
          "output_type": "stream",
          "name": "stdout",
          "text": [
            "Checkpoint files will always be loaded safely.\n",
            "Total VRAM 15095 MB, total RAM 12978 MB\n",
            "pytorch version: 2.7.1+cu118\n",
            "xformers version: 0.0.31.post1\n",
            "Set vram state to: NORMAL_VRAM\n",
            "Device: cuda:0 Tesla T4 : cudaMallocAsync\n",
            "Using xformers attention\n",
            "Python version: 3.11.13 (main, Jun  4 2025, 08:57:29) [GCC 11.4.0]\n",
            "ComfyUI version: 0.3.45\n",
            "ComfyUI frontend version: 1.23.4\n",
            "[Prompt Server] web root: /usr/local/lib/python3.11/dist-packages/comfyui_frontend_package/static\n",
            "ComfyUI-GGUF: Partial torch compile only, consider updating pytorch\n",
            "\n",
            "Import times for custom nodes:\n",
            "   0.0 seconds: /content/ComfyUI/custom_nodes/websocket_image_save.py\n",
            "   0.0 seconds: /content/ComfyUI/custom_nodes/ComfyUI-GGUF\n",
            "\n",
            "Context impl SQLiteImpl.\n",
            "Will assume non-transactional DDL.\n",
            "No target revision found.\n",
            "\n",
            "ComfyUI finished loading, trying to launch localtunnel...\n",
            "\n",
            "The password/endpoint IP for localtunnel is: 34.87.1.178\n",
            "your url is: https://mighty-hornets-watch.loca.lt\n"
          ]
        }
      ]
    },
    {
      "cell_type": "markdown",
      "metadata": {
        "id": "gggggggggg"
      },
      "source": [
        "### Run ComfyUI with colab iframe (use only in case the previous way with localtunnel doesn't work)\n",
        "\n",
        "You should see the ui appear in an iframe. If you get a 403 error, it's your firefox settings or an extension that's messing things up.\n",
        "\n",
        "If you want to open it in another window use the link.\n",
        "\n",
        "Note that some UI features like live image previews won't work because the colab iframe blocks websockets."
      ]
    },
    {
      "cell_type": "code",
      "execution_count": null,
      "metadata": {
        "id": "hhhhhhhhhh"
      },
      "outputs": [],
      "source": [
        "import threading\n",
        "def iframe_thread(port):\n",
        "  while True:\n",
        "      time.sleep(0.5)\n",
        "      sock = socket.socket(socket.AF_INET, socket.SOCK_STREAM)\n",
        "      result = sock.connect_ex(('127.0.0.1', port))\n",
        "      if result == 0:\n",
        "        break\n",
        "      sock.close()\n",
        "  from google.colab import output\n",
        "  output.serve_kernel_port_as_iframe(port, height=1024)\n",
        "  print(\"to open it in a window you can open this link here:\")\n",
        "  output.serve_kernel_port_as_window(port)\n",
        "\n",
        "threading.Thread(target=iframe_thread, daemon=True, args=(8188,)).start()\n",
        "\n",
        "!python main.py --dont-print-server\n"
      ]
    }
  ],
  "metadata": {
    "accelerator": "GPU",
    "colab": {
      "provenance": [],
      "collapsed_sections": [
        "gggggggggg"
      ],
      "gpuType": "T4",
      "include_colab_link": true
    },
    "kernelspec": {
      "display_name": "Python 3",
      "name": "python3"
    },
    "language_info": {
      "name": "python"
    }
  },
  "nbformat": 4,
  "nbformat_minor": 0
}